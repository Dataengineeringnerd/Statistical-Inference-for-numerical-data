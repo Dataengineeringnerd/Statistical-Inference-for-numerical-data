{
 "cells": [
  {
   "cell_type": "markdown",
   "id": "1894208f",
   "metadata": {},
   "source": [
    "## Problem 1\n",
    "\n",
    "A visual research lab has purchased a digital colour blindness test from a company. Before they can use the test in their research, they must ensure it is properly calibrated. To do this they must check that they get the same results as the company when testing participants with no colour deficiencies. The company states that participants with healthy colour vision will score 15 on the test on average. The research lab tests 13 participants with healthy colour vision. On average they score 12 with a standard deviation of 3.6. Is their machine properly calibrated?\n"
   ]
  },
  {
   "cell_type": "markdown",
   "id": "da529ade",
   "metadata": {},
   "source": [
    "<div class = \"exercise\">\n",
    "<h1>Exercise 1</h1>\n",
    "Write the hypotheses for testing whether the machine is properly calibrated or not.\n",
    "</div>"
   ]
  },
  {
   "cell_type": "markdown",
   "id": "1a023292",
   "metadata": {},
   "source": [
    "We will now conduct hypothesis tests for testing if the average score of participants with healthy color vision of the research lab are different than the company provided score. For this task, we can use [`statsmodels`](https://www.statsmodels.org/stable/index.html), a Python module that provides classes and functions for the estimation of many different statistical models, as well as for conducting statistical tests, and statistical data exploration."
   ]
  },
  {
   "cell_type": "code",
   "execution_count": 1,
   "id": "5c70d450",
   "metadata": {},
   "outputs": [
    {
     "name": "stdout",
     "output_type": "stream",
     "text": [
      "['7.0', '8.7', '8.7', '10.1', '12.4', '12.9', '13.0', '13.7', '13.9', '14.9', '15.0', '15.0', '15.1']\n"
     ]
    }
   ],
   "source": [
    "#import necessary library\n",
    "import scipy.stats as stats\n",
    "import numpy as np\n",
    "import pandas as pd\n",
    "import matplotlib.pyplot as plt\n",
    "\n",
    "\n",
    "#Sample \n",
    "sample_mean = 12\n",
    "standard_deviation = 3.6\n",
    "sample_size = 13\n",
    "\n",
    "\n",
    "#The population mean\n",
    "popmean = 15\n",
    "\n",
    "#Create fake data\n",
    "np.random.seed(20210725)\n",
    "x = np.random.normal(sample_mean, standard_deviation, sample_size)\n",
    "print([f'{x:.1f}' for x in sorted(x)])"
   ]
  },
  {
   "cell_type": "code",
   "execution_count": 3,
   "id": "7efcc868",
   "metadata": {},
   "outputs": [
    {
     "data": {
      "text/plain": [
       "12.34070641310785"
      ]
     },
     "execution_count": 3,
     "metadata": {},
     "output_type": "execute_result"
    }
   ],
   "source": [
    "np.mean(x)"
   ]
  },
  {
   "cell_type": "code",
   "execution_count": 2,
   "id": "c3682b29",
   "metadata": {},
   "outputs": [
    {
     "name": "stdout",
     "output_type": "stream",
     "text": [
      "t-statistic = -3.43810 p = 0.00491\n"
     ]
    }
   ],
   "source": [
    "#Perform a two-sided one-sample t-test\n",
    "statistic, pvalue = stats.ttest_1samp(x, popmean)\n",
    "\n",
    "print(f't-statistic = {statistic:5.5f}',f'p = {pvalue:5.5f}')"
   ]
  },
  {
   "cell_type": "markdown",
   "id": "0ce504c9",
   "metadata": {},
   "source": [
    "The p-value is less than the significance level. Therefore our result is significantly different and \n",
    "we can conclude that the machine is not calibrated properly."
   ]
  },
  {
   "cell_type": "markdown",
   "id": "1d94be0b",
   "metadata": {},
   "source": [
    "<div class = \"exercise\">\n",
    "<h2>Exercise 2</h2>\n",
    "Construct the confidence intervals. Does the conclusion from the hypothesis test agree with the findings of the confidence interval?\n",
    "</div>\n"
   ]
  },
  {
   "cell_type": "code",
   "execution_count": 3,
   "id": "9b71976d",
   "metadata": {},
   "outputs": [
    {
     "name": "stdout",
     "output_type": "stream",
     "text": [
      "14.554966634968489 9.445033365031511\n"
     ]
    }
   ],
   "source": [
    "#Confidence interval (CI)\n",
    "se = np.std(x)/np.sqrt(sample_size)\n",
    "lower = sample_mean - (statistic * se)\n",
    "upper = sample_mean + (statistic * se)\n",
    "print(lower, upper)"
   ]
  },
  {
   "cell_type": "markdown",
   "id": "6a29c1eb",
   "metadata": {},
   "source": [
    "Yes, the hypothesis test found a significant difference, and the CI does not contain the null value of 0."
   ]
  },
  {
   "cell_type": "markdown",
   "id": "d94711e1",
   "metadata": {},
   "source": [
    "## Problem 2\n",
    "\n",
    "In a study twenty participants were given a list of 20 words to process. The 20 participants were randomly assigned to one of two treatment conditions. Half were instructed to count the number of vowels in each word (shallow processing). Half were instructed to judge whether the object described by each word would be useful if one were stranded on a desert island (deep processing). After a brief distractor task, all subjects were given a surprise free recall task. The number of words correctly recalled was recorded for each subject. \n",
    "\n",
    "Did the instructions given to the participants significantly affect their level of recall at the 5% significance level (alpha = 0.05)?\n",
    "\n",
    "Hints: The above problem involves an experiment with two treatment conditions. The goal of your test is to see if there is significant mean difference between the two treatment groups."
   ]
  },
  {
   "cell_type": "code",
   "execution_count": 5,
   "id": "4fbb0a44",
   "metadata": {},
   "outputs": [],
   "source": [
    "#Data is given below\n",
    "ShallowProcessing = [13, 12,11, 9, 11, 13, 14, 14, 14, 15]\n",
    "DeepProcessing = [12, 15, 14, 14, 13, 12, 15, 14, 16, 17]"
   ]
  },
  {
   "cell_type": "code",
   "execution_count": 6,
   "id": "7ae9f9fa",
   "metadata": {},
   "outputs": [
    {
     "name": "stdout",
     "output_type": "stream",
     "text": [
      "3.04 2.3600000000000003\n",
      "t-statistic = -2.06559 p = 0.05357\n"
     ]
    }
   ],
   "source": [
    "##find variance for each group\n",
    "print(np.var(ShallowProcessing), np.var(DeepProcessing))\n",
    "\n",
    "#perform two sample t-test with equal variances\n",
    "statistic, pvalue = stats.ttest_ind(ShallowProcessing, DeepProcessing, equal_var=True)\n",
    "\n",
    "print(f't-statistic = {statistic:5.5f}',f'p = {pvalue:5.5f}')"
   ]
  },
  {
   "cell_type": "markdown",
   "id": "0aa6d4e7",
   "metadata": {},
   "source": [
    "Here the corresponding p-value of the test statistic is greater than alpha level of 0.05. Hence, we would conclude that there is not a significant difference in recall between the two treatment groups."
   ]
  },
  {
   "cell_type": "markdown",
   "id": "c93504b4",
   "metadata": {},
   "source": [
    "## Problem 3 on Iris_Data.csv (Blackboard)\n",
    "\n",
    "The data set contains the sepal and petal length and width of various floral species."
   ]
  },
  {
   "cell_type": "markdown",
   "id": "d02b6291",
   "metadata": {},
   "source": [
    "<div class = \"exercise\">\n",
    "<h3>Exercise 3</h3>\n",
    "Test if there is a significant difference in the petal lenght between the species Iris-setosa and Iris-virginica.\n",
    "</div>"
   ]
  },
  {
   "cell_type": "code",
   "execution_count": 8,
   "id": "9828f903",
   "metadata": {},
   "outputs": [
    {
     "name": "stdout",
     "output_type": "stream",
     "text": [
      "setosa_variance = 0.02950 and virginica_variance = 0.29850\n",
      "t-statistic = -49.96570 p = 0.00000\n"
     ]
    }
   ],
   "source": [
    "#Load the dataset\n",
    "df = pd.read_csv('Iris_Data.csv')\n",
    "\n",
    "\n",
    "#To make the code in the next steps a bit cleaner to read, I will create 2 data frames that are subsets of the original data \n",
    "#where each data frame only contains data for a respective flower species.\n",
    "setosa = df[df['species'] == 'Iris-setosa']['petal_length']\n",
    "virginica = df[df['species'] == 'Iris-virginica']['petal_length']\n",
    "\n",
    "\n",
    "##find variance for each group\n",
    "print(f'setosa_variance = {np.var(setosa):5.5f}', 'and',f'virginica_variance = {np.var(virginica):5.5f}')\n",
    "\n",
    "\n",
    "#perform two sample t-test with unequal variances: Welchs test\n",
    "statistic, pvalue = stats.ttest_ind(setosa, virginica, equal_var=False)\n",
    "\n",
    "print(f't-statistic = {statistic:5.5f}',f'p = {pvalue:5.5f}')"
   ]
  },
  {
   "cell_type": "markdown",
   "id": "9e25d818",
   "metadata": {},
   "source": [
    "<div class = \"exercise\">\n",
    "<h4>Exercise 4</h4>\n",
    "Test if there is a significant difference in the petal lenght between the species Iris-setosa and Iris-versicolor.\n",
    "</div>"
   ]
  },
  {
   "cell_type": "markdown",
   "id": "bcdfa2ad",
   "metadata": {},
   "source": [
    "## Problem 4\n",
    "\n",
    "Suppose we want to know whether a certain study program significantly impacts student performance on a particular exam. To test this, we have 15 students in a class take a pre-test. Then, we have each of the students participate in the study program for two weeks. Then, the students retake a test of similar difficulty. To compare the 'difference' between the mean scores on the first and second test, we use a paired samples t-test because for each student their first test score can be paired with their second test score.\n"
   ]
  },
  {
   "cell_type": "code",
   "execution_count": 9,
   "id": "f4f61cbe",
   "metadata": {},
   "outputs": [],
   "source": [
    "#Data is given below\n",
    "pre = [88, 82, 84, 93, 75, 78, 84, 87, 95, 91, 83, 89, 77, 68, 91]\n",
    "post = [91, 84, 88, 90, 79, 80, 88, 90, 90, 96, 88, 89, 81, 74, 92]"
   ]
  },
  {
   "cell_type": "code",
   "execution_count": 10,
   "id": "ae8d25f1",
   "metadata": {},
   "outputs": [
    {
     "name": "stdout",
     "output_type": "stream",
     "text": [
      "t-statistic = -2.97325 p = 0.01007\n"
     ]
    }
   ],
   "source": [
    "#perform the paired samples t-test\n",
    "statistic, pvalue = stats.ttest_rel(pre, post)\n",
    "\n",
    "print(f't-statistic = {statistic:5.5f}',f'p = {pvalue:5.5f}')"
   ]
  },
  {
   "cell_type": "markdown",
   "id": "ea86c87f",
   "metadata": {},
   "source": [
    "Here the corresponding p-value of the test statistic is less than alpha level. Hence we have enough evidence to reject the null hypothesis."
   ]
  },
  {
   "cell_type": "markdown",
   "id": "2934d7e4",
   "metadata": {},
   "source": [
    "## Problem 5\n",
    "\n",
    "An  assertiveness  training  course  has  just  been  added  to the  services offered  by  a  counseling  center. To  measure  its  effectiveness,  ten students are given a test at the beginning of the course and again at the end. A  high  score  on  the  test  implies  high  assertiveness.  \n",
    "\n",
    "Do the  data provide sufficient evidence to conclude that people are 'more assertive' after taking the course? Test at the 5% significance level (alpha=0.05)."
   ]
  },
  {
   "cell_type": "code",
   "execution_count": 11,
   "id": "f937bb5b",
   "metadata": {},
   "outputs": [],
   "source": [
    "#Data is given below\n",
    "Before = [50, 62, 51, 41, 63, 56, 49, 67, 42, 57]\n",
    "After = [65, 68, 52, 43, 60, 70, 48, 69, 53, 61]"
   ]
  },
  {
   "cell_type": "code",
   "execution_count": 12,
   "id": "2d950c2c",
   "metadata": {},
   "outputs": [
    {
     "name": "stdout",
     "output_type": "stream",
     "text": [
      "t-statistic = -2.57552 p = 0.02992\n"
     ]
    }
   ],
   "source": [
    "#perform the paired samples t-test\n",
    "statistic, pvalue = stats.ttest_rel(Before, After)\n",
    "\n",
    "print(f't-statistic = {statistic:5.5f}',f'p = {pvalue:5.5f}')"
   ]
  },
  {
   "cell_type": "markdown",
   "id": "8effccef",
   "metadata": {},
   "source": [
    "Here the corresponding p-value of the test statistic is less than alpha level. Hence we have enough evidence to reject the null hypothesis."
   ]
  },
  {
   "cell_type": "markdown",
   "id": "062be96d",
   "metadata": {},
   "source": [
    "## Problem 6\n",
    "\n",
    "Is it possible to perform a t-test when the sample sizes of each group are not equal?\n",
    "\n",
    "Example 1: Unequal Sample Sizes and Equal Variances"
   ]
  },
  {
   "cell_type": "markdown",
   "id": "ae81d0d2",
   "metadata": {},
   "source": [
    "Suppose we administer two programs designed to help students score higher on some exam.\n",
    "\n",
    "The results are as follows:\n",
    "\n",
    "Program 1:\n",
    "\n",
    "n (sample size): 500,\n",
    "x (sample mean): 80,\n",
    "s (sample standard deviation): 5.\n",
    "\n",
    "\n",
    "Program 2:\n",
    "\n",
    "n (sample size): 20,\n",
    "x (sample mean): 85,\n",
    "s (sample standard deviation): 5."
   ]
  },
  {
   "cell_type": "code",
   "execution_count": 13,
   "id": "0f1fa56e",
   "metadata": {},
   "outputs": [
    {
     "data": {
      "image/png": "[encoded data removed]",
      "text/plain": [
       "<Figure size 640x480 with 1 Axes>"
      ]
     },
     "metadata": {},
     "output_type": "display_data"
    },
    {
     "name": "stdout",
     "output_type": "stream",
     "text": [
      "Ttest_indResult(statistic=-2.527324850969138, pvalue=0.011789907002230813)\n",
      "Ttest_indResult(statistic=-2.393079666654935, pvalue=0.026439577184477907)\n"
     ]
    }
   ],
   "source": [
    "#make this example reproducible\n",
    "np.random.seed(2)\n",
    "\n",
    "sample_mean1 =  80\n",
    "standard_deviation1 = 5\n",
    "sample_size1 = 500\n",
    "\n",
    "#Create fake data for program 1\n",
    "x_program1 = np.random.normal(sample_mean1, standard_deviation1, sample_size1)\n",
    "#print([f'{x_program1:.1f}' for x_program1 in sorted(x_program1)])\n",
    "\n",
    "sample_mean2 =  85\n",
    "standard_deviation2 = 5\n",
    "sample_size2 = 20\n",
    "\n",
    "#Create fake data for program 2\n",
    "x_program2 = np.random.normal(sample_mean2, standard_deviation2, sample_size2)\n",
    "\n",
    "#print([f'{x_program2:.1f}' for x_program2 in sorted(x_program2)])\n",
    "\n",
    "#Box plots of different columns for each gender\n",
    "box_plot_data=[x_program1, x_program2]\n",
    "plt.boxplot(box_plot_data,labels=['Program 1','Program 2'])\n",
    "plt.show()\n",
    "\n",
    "\n",
    "print(stats.ttest_ind(x_program1, x_program2, equal_var=True))\n",
    "print(stats.ttest_ind(x_program1, x_program2, equal_var=False))\n"
   ]
  },
  {
   "cell_type": "markdown",
   "id": "f97240cd",
   "metadata": {},
   "source": [
    "The independent samples t-test (or equal variance) returns a p-value of 0.011 and Welch’s t-test (unequal variance) returns a p-value of 0.026.\n",
    "\n",
    "Since the p-value of each test is less than the significance level 0.05, we would reject the null hypothesis in each test and conclude that there is a statistically significant difference in mean exam scores between the two programs.\n",
    "\n",
    "Even though the sample sizes are unequal, the independent samples t-test and Welch’s t-test both return similar results since the two samples had equal variances."
   ]
  },
  {
   "cell_type": "markdown",
   "id": "5aec6752",
   "metadata": {},
   "source": [
    "Example 2: Unequal Sample Sizes and Unequal Variances"
   ]
  },
  {
   "cell_type": "markdown",
   "id": "769ba1b8",
   "metadata": {},
   "source": [
    "Suppose we administer two programs designed to help students score higher on some exam.\n",
    "\n",
    "The results are as follows:\n",
    "\n",
    "Program 1:\n",
    "n (sample size): 500,\n",
    "x (sample mean): 80,\n",
    "s (sample standard deviation): 20.\n",
    "\n",
    "Program 2:\n",
    "n (sample size): 20,\n",
    "x (sample mean): 85,\n",
    "s (sample standard deviation): 5."
   ]
  },
  {
   "cell_type": "code",
   "execution_count": 14,
   "id": "c0808972",
   "metadata": {},
   "outputs": [
    {
     "data": {
      "image/png": "[encoded data removed]",
      "text/plain": [
       "<Figure size 640x480 with 1 Axes>"
      ]
     },
     "metadata": {},
     "output_type": "display_data"
    },
    {
     "name": "stdout",
     "output_type": "stream",
     "text": [
      "Ttest_indResult(statistic=-0.6962426138740059, pvalue=0.4865891845220448)\n",
      "Ttest_indResult(statistic=-2.1008541246505716, pvalue=0.04114035563256625)\n"
     ]
    }
   ],
   "source": [
    "#make this example reproducible\n",
    "np.random.seed(2)\n",
    "\n",
    "sample_size11 = 500\n",
    "mean11 =  80\n",
    "standard_deviation11 = 20\n",
    "\n",
    "\n",
    "#Create fake data for program 1\n",
    "x_program11 = np.random.normal(mean11, standard_deviation11, sample_size11)\n",
    "#print([f'{x_program11:.1f}' for x_program11 in sorted(x_program11)])\n",
    "\n",
    "sample_size22 = 20\n",
    "mean22 =  85\n",
    "standard_deviation22 = 5\n",
    "\n",
    "\n",
    "#Create fake data for program 2\n",
    "x_program22 = np.random.normal(mean22, standard_deviation22, sample_size22)\n",
    "#print([f'{x_program22:.1f}' for x_program22 in sorted(x_program22)])\n",
    "\n",
    "#Box plots of different columns for each gender\n",
    "box_plot_data=[x_program11, x_program22]\n",
    "plt.boxplot(box_plot_data,labels=['Program 1','Program 2'])\n",
    "plt.show() \n",
    "\n",
    "print(stats.ttest_ind(x_program11, x_program22, equal_var=True))\n",
    "print(stats.ttest_ind(x_program11, x_program22, equal_var=False))"
   ]
  },
  {
   "cell_type": "markdown",
   "id": "3c4cc234",
   "metadata": {},
   "source": [
    "The independent samples t-test returns a p-value of 0.48 and Welch’s t-test returns a p-value of 0.04.\n",
    "\n",
    "The independent samples t-test is not able to detect a difference in mean exam scores, but the Welch’s t-test is able to detect a statistically significant difference.\n",
    "\n",
    "Since the two samples had unequal variances, only Welch’s t-test was able to detect the statistically significant difference in mean exam scores since this test does not make the assumption of equal variances between samples."
   ]
  },
  {
   "cell_type": "markdown",
   "id": "e32ab533",
   "metadata": {},
   "source": [
    "## Homework assignment due by February 27 (midnight)"
   ]
  },
  {
   "cell_type": "markdown",
   "id": "9a4b451b",
   "metadata": {},
   "source": [
    "## Problem 1: \n",
    "\n",
    "A psychology student, Sarah, is giving out sleep diaries to her university friends to monitor the number of hours of sleep they have each night. Sarah believes that university students sleep for 6 hours per night on average. Below is the data that they collected. The number of hours sleep per night for each student was averaged over a one month monitoring period. Is there any evidence to suggest that Sarah’s belief is incorrect? [20 points]\n",
    " \n",
    "1. What would be the null hypothesis in this study?\n",
    "2. What would be the alternate hypothesis?\n",
    "3. What significance level did you choose?\n",
    "4. Using any programming language, what is your computed answer? Interpret your answer.\n",
    "\n",
    "Data:\n",
    "\n",
    "Hours of sleep per night=[7.2, 8.7, 5.4, 6.1, 5.6, 6.7, 5.9, 6.3, 7.0, 4.2]"
   ]
  },
  {
   "cell_type": "markdown",
   "id": "863c0c31",
   "metadata": {},
   "source": [
    "1. What would be the null hypothesis in this study?\n",
    "The null hypothesis is that university students sleep 6 hours on average.\n",
    "H: \n",
    "\n",
    "2. What would be the alternate hypothesis?\n",
    "That university students don't sleep 6 hours on average.\n",
    "\n",
    "3. What significance level did you choose?\n",
    "I chose 0.05 as the significance level "
   ]
  },
  {
   "cell_type": "code",
   "execution_count": 15,
   "id": "881b7203",
   "metadata": {},
   "outputs": [
    {
     "data": {
      "text/plain": [
       "10"
      ]
     },
     "execution_count": 15,
     "metadata": {},
     "output_type": "execute_result"
    }
   ],
   "source": [
    "len([7.2, 8.7, 5.4, 6.1, 5.6, 6.7, 5.9, 6.3, 7.0, 4.2])"
   ]
  },
  {
   "cell_type": "code",
   "execution_count": 16,
   "id": "63047bd5",
   "metadata": {},
   "outputs": [],
   "source": [
    "#intitalize X\n",
    "x= [7.2, 8.7, 5.4, 6.1, 5.6, 6.7, 5.9, 6.3, 7.0, 4.2]"
   ]
  },
  {
   "cell_type": "code",
   "execution_count": 18,
   "id": "1cf08550",
   "metadata": {},
   "outputs": [
    {
     "name": "stdout",
     "output_type": "stream",
     "text": [
      "t-statistic = 0.81165 p = 0.43793\n"
     ]
    }
   ],
   "source": [
    "#Perform a two-sided one-sample t-test\n",
    "statistic, pvalue = stats.ttest_1samp(x, 6)\n",
    "\n",
    "print(f't-statistic = {statistic:5.5f}',f'p = {pvalue:5.5f}')"
   ]
  },
  {
   "cell_type": "markdown",
   "id": "970873ce",
   "metadata": {},
   "source": [
    "4. Using any programming language, what is your computed answer? Interpret your answer\n",
    "The p-value is greater than the significance level suggesting the difference is not stastically significant so we can't reject the null hypothesis."
   ]
  },
  {
   "cell_type": "markdown",
   "id": "c67fce99",
   "metadata": {},
   "source": [
    "## Problem 2: \n",
    "\n",
    "A researcher reads a paper introducing a new test of executive function. The authors of the paper had tested on healthy volunteers and found that on average they score 51 on the new test. The researcher believes that patients with schizophrenia will score less than the normal average on this test of executive function. They test 22 patients with schizophrenia. The average score for the patients is 39 with a standard deviation of 4.3. Is there significant evidence at the 5% level to support the researcher's claim? [20 points]\n",
    "\n",
    "1. What would be the null hypothesis in this study?\n",
    "2. What would be the alternate hypothesis?\n",
    "3. What is your computed answer? Interpret your answer.\n",
    "4. Does the result hold the same if the significanc level is reduced to 1%?\n",
    "\n",
    "\n"
   ]
  },
  {
   "cell_type": "markdown",
   "id": "d2f52bb5",
   "metadata": {},
   "source": [
    "1. What would be the null hypothesis in this study?\n",
    "That patients with schizionphrenia will score less than their neurotypical counterparts on the executive function test. \n",
    "H0: NT > ST\n",
    "    \n",
    "2. What would be the alternate hypothesis?\n",
    "That patients with schizophrenia do not score less than neurotypical counterparts on the executive test\n",
    "H1: NT= < ST "
   ]
  },
  {
   "cell_type": "code",
   "execution_count": 37,
   "id": "14cb9a20",
   "metadata": {},
   "outputs": [
    {
     "name": "stdout",
     "output_type": "stream",
     "text": [
      "['32.3', '33.0', '35.1', '35.1', '36.4', '36.7', '37.8', '39.4', '39.5', '39.5', '40.1', '40.1', '41.1', '41.2', '41.6', '41.9', '42.5', '42.5', '42.6', '42.6', '42.7', '45.3']\n"
     ]
    }
   ],
   "source": [
    "#Sample \n",
    "st_sample_mean = 39\n",
    "st_standard_deviation = 4.3\n",
    "sample_size = 22\n",
    "\n",
    "\n",
    "#The population mean\n",
    "popmean = 51\n",
    "\n",
    "#Create fake data\n",
    "np.random.seed(20210725)\n",
    "x = np.random.normal(st_sample_mean, st_standard_deviation, sample_size)\n",
    "print([f'{x:.1f}' for x in sorted(x)])"
   ]
  },
  {
   "cell_type": "code",
   "execution_count": 41,
   "id": "35081561",
   "metadata": {},
   "outputs": [
    {
     "name": "stdout",
     "output_type": "stream",
     "text": [
      "2.5690065890719066e-13\n",
      "t-statistic = -15.58422 p = 0.00000\n"
     ]
    }
   ],
   "source": [
    "#Perform a two-sided one-sample t-test\n",
    "statistic, pvalue = stats.ttest_1samp(x, popmean, alternative='less')\n",
    "print(f't-statistic = {statistic:5.5f}',f'p = {pvalue:5.5f}')"
   ]
  },
  {
   "cell_type": "markdown",
   "id": "b36550bc",
   "metadata": {},
   "source": [
    "3.What is your computed answer? Interpret your answer.\n",
    "P_value is less thatn alpha, so the null hypothesis is rejected. \n",
    "\n",
    "4.Does the result hold the same if the significance level is reduced to 1%?\n",
    "The results hold at the 1 percent significance."
   ]
  },
  {
   "cell_type": "markdown",
   "id": "4540619b",
   "metadata": {},
   "source": [
    "## Problem 3:\n",
    "\n",
    "A research study was conducted to examine the differences between older and younger adults on perceived life satisfaction. A pilot study was conducted to examine this hypothesis. Ten older adults (over the age of 70) and ten younger adults (between 20 and 30) were give a life satisfaction test (known to have high reliability and validity). Scores on the measure range from 0 to 60 with high scores indicative of high life satisfaction; low scores indicative of low life satisfaction. The data are presented below. Compute the appropriate t-test, and answer the following questions.[20 points]\n",
    "\n",
    "1. What would be the null hypothesis in this study?\n",
    "2. What would be the alternate hypothesis?\n",
    "3. What significance level did you choose?\n",
    "4. Using any programming language, what is your computed answer? Interpret your answer.\n",
    "\n",
    "Data:\n",
    "\n",
    "Older Adults=[45, 38, 52, 48, 25, 39, 51, 46, 55, 46]\n",
    "\n",
    "Younger Adults=[34, 22, 15, 27, 37, 41, 24, 19, 26, 36]\n"
   ]
  },
  {
   "cell_type": "markdown",
   "id": "fc2cb540",
   "metadata": {},
   "source": [
    "1.What would be the null hypothesis in this study?\n",
    "Life satisfaction test results will be the same for older and younger adults\n",
    "H0: OA = YA\n",
    "\n",
    "2.What would be the alternate hypothesis?\n",
    "There is a difference between the life satisfaction for older and younger adults. \n",
    "H1: OA != YA\n",
    "3.What significance level did you choose?\n",
    "I chose 0.05"
   ]
  },
  {
   "cell_type": "code",
   "execution_count": 42,
   "id": "c462e4f2",
   "metadata": {},
   "outputs": [],
   "source": [
    "Older_Adults=[45, 38, 52, 48, 25, 39, 51, 46, 55, 46]\n",
    "\n",
    "Younger_Adults=[34, 22, 15, 27, 37, 41, 24, 19, 26, 36]"
   ]
  },
  {
   "cell_type": "code",
   "execution_count": 43,
   "id": "209a5915",
   "metadata": {},
   "outputs": [
    {
     "name": "stdout",
     "output_type": "stream",
     "text": [
      "t-statistic = 4.25755 p = 0.00047\n"
     ]
    }
   ],
   "source": [
    "statistic, pvalue = stats.ttest_ind(Older_Adults , Younger_Adults, equal_var=False)\n",
    "print(f't-statistic = {statistic:5.5f}',f'p = {pvalue:5.5f}')"
   ]
  },
  {
   "cell_type": "markdown",
   "id": "3925c03a",
   "metadata": {},
   "source": [
    "4. Using any programming language, what is your computed answer? Interpret your answer.\n",
    "The pvalue is less than alpha so we can reject the null hypothesis. This means there is a stastically significanct different between older adults and younger adults and life satisfaction. "
   ]
  },
  {
   "cell_type": "markdown",
   "id": "6fb0103c",
   "metadata": {},
   "source": [
    "## Problem 4:\n",
    "\n",
    "A researcher hypothesizes that electrical stimulation of the lateral habenula will result in a decrease in food intake (in this case, chocolate chips) in rats. Rats undergo stereotaxic surgery and an electrode is implanted in the right lateral habenula. Following a ten day recovery period, rats (kept at 80 percent body weight) are tested for the number of chocolate chips consumed during a 10 minute period of time both with and without electrical stimulation. The testing conditions are counter balanced. Compute the appropriate t-test for the data provided below, and answer the following questions. [20 points]\n",
    "\n",
    "1. What would be the null hypothesis in this study?\n",
    "2. What would be the alternate hypothesis?\n",
    "3. What significance level did you choose?\n",
    "4. Using any programming language, what is your computed answer? Interpret your answer.\n",
    "\n",
    "Data:\n",
    "\n",
    "Simulation=[12, 7, 3, 11, 8, 5, 14, 7, 9, 10]\n",
    "\n",
    "No simulation=[8, 7, 4, 14, 6, 7, 12, 5, 5, 8]"
   ]
  },
  {
   "cell_type": "markdown",
   "id": "6551f12f",
   "metadata": {},
   "source": [
    "1. What would be the null hypothesis in this study?\n",
    "That rats with electrical stimulation eat less chocolate chips\n",
    "H0: St < NSt\n",
    "2. What would be the alternate hypothesis?\n",
    "The electrical stimulation doesn't cause the rates to eat less chocolate chips.\n",
    "H1: St !< NSt \n",
    "3. What significance level did you choose?\n",
    "I chose 0.05."
   ]
  },
  {
   "cell_type": "code",
   "execution_count": 45,
   "id": "eb52c5fc",
   "metadata": {},
   "outputs": [],
   "source": [
    "Simulation=[12, 7, 3, 11, 8, 5, 14, 7, 9, 10]\n",
    "No_simulation=[8, 7, 4, 14, 6, 7, 12, 5, 5, 8]"
   ]
  },
  {
   "cell_type": "code",
   "execution_count": 48,
   "id": "ff75a2cd",
   "metadata": {},
   "outputs": [
    {
     "name": "stdout",
     "output_type": "stream",
     "text": [
      "t-statistic = 1.31559 p = 0.88958\n"
     ]
    }
   ],
   "source": [
    "#perform the paired samples t-test\n",
    "statistic, pvalue = stats.ttest_rel(Simulation, No_simulation, alternative='less')\n",
    "\n",
    "print(f't-statistic = {statistic:5.5f}',f'p = {pvalue:5.5f}')"
   ]
  },
  {
   "cell_type": "markdown",
   "id": "766f2b8a",
   "metadata": {},
   "source": [
    "4. Using any programming language, what is your computed answer? Interpret your answer.\n",
    "The null hypothesis is not rejected  because the p value is greater than alpha. The t-test that electrically stimulated rats did not eat significanctly less amount of chips"
   ]
  },
  {
   "cell_type": "markdown",
   "id": "a08fe5ee",
   "metadata": {},
   "source": [
    "## Problem 5:\n",
    "\n",
    "Sleep researchers decide to test the impact of REM sleep deprivation on a computerized assembly line task. Subjects are required to participate in two nights of testing. On the nights of testing EEG, EMG, EOG measures are taken. On each night of testing the subject is allowed a total of four hours of sleep. However, on one of the nights, the subject is awakened immediately upon achieving REM sleep. On the alternate night, subjects are randomly awakened at various times throughout the 4 hour total sleep session. Testing conditions are counterbalanced so that half of the subject experience REM deprivation on the first night of testing and half experience REM deprivation on the second night of testing. Each subject after the sleep session is required to complete a computerized assembly line task. The task involves five rows of widgets slowly passing across the computer screen. Randomly placed on a one/five ratio are widgets missing a component that must be \"fixed\" by the subject. Number of missed widgets is recorded. Compute the appropriate t-test for the data provided below, and answer the following questions. [20 points]\n",
    "\n",
    "1. What would be the null hypothesis in this study?\n",
    "2. What would be the alternate hypothesis?\n",
    "3. What significance level did you choose?\n",
    "4. Using any programming language, what is your computed answer? Interpret your answer.\n",
    "\n",
    "\n",
    "Data:\n",
    "\n",
    "REM Deprived=[26, 15, 8, 44, 26, 13, 38, 24, 17, 29]\n",
    "\n",
    "Control Condition=[20, 4, 9, 36, 20, 3, 25, 10, 6, 14]"
   ]
  },
  {
   "cell_type": "markdown",
   "id": "af3c34ec",
   "metadata": {},
   "source": [
    "1. What would be the null hypothesis in this study?\n",
    "There is no difference between the REM Deprived group and the control group.\n",
    "\n",
    "2. What would be the alternate hypothesis?\n",
    "There is a differenece between the REM deprived grouped and the control group\n",
    "\n",
    "3. What significance level did you choose?\n",
    "The significance level I choose os 0.05"
   ]
  },
  {
   "cell_type": "code",
   "execution_count": 52,
   "id": "33e79c0f",
   "metadata": {},
   "outputs": [
    {
     "name": "stdout",
     "output_type": "stream",
     "text": [
      "t-statistic = 6.17565 p = 0.00016\n"
     ]
    }
   ],
   "source": [
    "REM_Deprived=[26, 15, 8, 44, 26, 13, 38, 24, 17, 29]\n",
    "Control_Condition=[20, 4, 9, 36, 20, 3, 25, 10, 6, 14]\n",
    "statistic, pvalue = stats.ttest_rel(REM_Deprived , Control_Condition)\n",
    "print(f't-statistic = {statistic:5.5f}',f'p = {pvalue:5.5f}')"
   ]
  },
  {
   "cell_type": "markdown",
   "id": "2f202e01",
   "metadata": {},
   "source": [
    "4. Using any programming language, what is your computed answer? Interpret your answer.\n",
    "There is a statistically significant difference between REM deprived group and the control group due to pvalue being less than 0.05."
   ]
  }
 ],
 "metadata": {
  "kernelspec": {
   "display_name": "Python 3 (ipykernel)",
   "language": "python",
   "name": "python3"
  },
  "language_info": {
   "codemirror_mode": {
    "name": "ipython",
    "version": 3
   },
   "file_extension": ".py",
   "mimetype": "text/x-python",
   "name": "python",
   "nbconvert_exporter": "python",
   "pygments_lexer": "ipython3",
   "version": "3.11.4"
  }
 },
 "nbformat": 4,
 "nbformat_minor": 5
}
